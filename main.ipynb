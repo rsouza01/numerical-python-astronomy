{
 "cells": [
  {
   "cell_type": "code",
   "execution_count": 2,
   "metadata": {},
   "outputs": [
    {
     "name": "stdout",
     "output_type": "stream",
     "text": [
      "declination = 23.43 deg\n"
     ]
    }
   ],
   "source": [
    "import math\n",
    "\n",
    "N = 171 # day of 1st solstice\n",
    "\n",
    "omega = 2*math.pi/365.24 # angular velocity in rad/day\n",
    "\n",
    "ecl = math.radians(23.44) # obliquity of the ecliptic\n",
    "\n",
    "\n",
    "# approximate expression for declination of the Sun\n",
    "\n",
    "delta = -math.asin(math.sin(ecl)*math.cos(omega*(N+10)))\n",
    "\n",
    "print(\"declination = {:.2f} deg\".format(math.degrees(delta)))"
   ]
  },
  {
   "cell_type": "code",
   "execution_count": 6,
   "metadata": {},
   "outputs": [
    {
     "name": "stdout",
     "output_type": "stream",
     "text": [
      "[ 79 171 265 355]\n",
      "4\n",
      "int64\n",
      "[ -0.9055077   23.43035419  -0.41950731 -23.43978827]\n"
     ]
    }
   ],
   "source": [
    "import numpy as np\n",
    "\n",
    "\n",
    "# equinoxes and solstices in 2020\n",
    "\n",
    "N = np.array([79, 171, 265, 355])\n",
    "\n",
    "print(N)\n",
    "print(N.size)\n",
    "print(N.dtype)\n",
    "\n",
    "delta = -np.arcsin(math.sin(ecl) * np.cos(omega*(N+10)))\n",
    "print(np.degrees(delta))"
   ]
  }
 ],
 "metadata": {
  "kernelspec": {
   "display_name": ".venv",
   "language": "python",
   "name": "python3"
  },
  "language_info": {
   "codemirror_mode": {
    "name": "ipython",
    "version": 3
   },
   "file_extension": ".py",
   "mimetype": "text/x-python",
   "name": "python",
   "nbconvert_exporter": "python",
   "pygments_lexer": "ipython3",
   "version": "3.10.13"
  }
 },
 "nbformat": 4,
 "nbformat_minor": 2
}
