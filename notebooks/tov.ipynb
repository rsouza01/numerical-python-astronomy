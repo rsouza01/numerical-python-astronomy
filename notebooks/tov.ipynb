{
 "cells": [
  {
   "cell_type": "code",
   "execution_count": 1,
   "metadata": {},
   "outputs": [],
   "source": [
    "import sys\n",
    "import os\n",
    "\n",
    "module_path = os.path.abspath(os.path.join('..'))\n",
    "if module_path not in sys.path:\n",
    "    sys.path.append(module_path + \"/src\")"
   ]
  },
  {
   "cell_type": "markdown",
   "metadata": {},
   "source": [
    "# References\n",
    "- https://www.askpython.com/python-modules/numpy/solving-coupled-differential-equations"
   ]
  },
  {
   "cell_type": "code",
   "execution_count": 2,
   "metadata": {},
   "outputs": [],
   "source": [
    "import numpy as np\n",
    "import matplotlib.pyplot as plt\n",
    "from scipy.integrate import odeint\n",
    " \n",
    "def coupled_differential_equations(y, t, k, b):\n",
    "    x, v = y\n",
    "    dxdt = v\n",
    "    dvdt = -k * x - b * v\n",
    "    return [dxdt, dvdt]\n",
    " \n",
    "y0 = [1.0, 0.0]  \n",
    "k = 1.0 \n",
    "b = 0.2 \n",
    "t = np.linspace(0, 10, 1000)  \n",
    " \n",
    "solutions = odeint(coupled_differential_equations, y0, t, args=(k, b))\n",
    " \n",
    "x_values = solutions[:, 0]\n",
    "v_values = solutions[:, 1]\n",
    " \n",
    "# plt.plot(t, x_values, label='Position x')\n",
    "# plt.plot(t, v_values, label='Velocity v')\n",
    "# plt.xlabel('Time')\n",
    "# plt.ylabel('Position / Velocity')\n",
    "# plt.legend()\n",
    "# plt.title('Coupled Differential Equations: Simple Harmonic Oscillator with Damping')\n",
    "# plt.show()"
   ]
  },
  {
   "cell_type": "code",
   "execution_count": 10,
   "metadata": {},
   "outputs": [
    {
     "name": "stdout",
     "output_type": "stream",
     "text": [
      "10351729359856.08\n",
      "1.3939544777808332e+40\n"
     ]
    }
   ],
   "source": [
    "# TOV Tentative\n",
    "import math\n",
    "from collections import namedtuple\n",
    "\n",
    "import  scipy\n",
    "\n",
    "# Definitions to be moved to tov.py\n",
    "\n",
    "Config = namedtuple(\"Config\", \"speed_of_light gravitational_constant\")\n",
    "\n",
    "def param_a(rho_c, config):\n",
    "    return math.sqrt((config.speed_of_light**2) /( 4.0 * math.pi * config.gravitational_constant * rho_c))\n",
    "\n",
    "def param_M_star(rho_c, config):\n",
    "    return (config.speed_of_light**3) / math.sqrt(( 4.0 * math.pi * config.gravitational_constant**3 * rho_c))\n",
    "\n",
    "def get_tov_equations():\n",
    "    def dP_dEta(params):\n",
    "        pass\n",
    "    def dM_dEta(params):\n",
    "        pass\n",
    "    return [dP_dEta, dM_dEta]\n",
    "\n",
    "\n",
    "#######################################################################################################################\n",
    "rho_c = 1\n",
    "config = Config(scipy.constants.speed_of_light, scipy.constants.gravitational_constant)\n",
    "\n",
    "a = param_a(rho_c, config)\n",
    "m_star = param_M_star(rho_c, config)\n",
    "\n",
    "print(a)\n",
    "print(m_star)"
   ]
  }
 ],
 "metadata": {
  "kernelspec": {
   "display_name": ".venv",
   "language": "python",
   "name": "python3"
  },
  "language_info": {
   "codemirror_mode": {
    "name": "ipython",
    "version": 3
   },
   "file_extension": ".py",
   "mimetype": "text/x-python",
   "name": "python",
   "nbconvert_exporter": "python",
   "pygments_lexer": "ipython3",
   "version": "3.10.13"
  }
 },
 "nbformat": 4,
 "nbformat_minor": 2
}
