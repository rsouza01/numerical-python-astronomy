{
 "cells": [
  {
   "cell_type": "code",
   "execution_count": 7,
   "metadata": {},
   "outputs": [],
   "source": [
    "import sys\n",
    "import os\n",
    "\n",
    "module_path = os.path.abspath(os.path.join('..'))\n",
    "if module_path not in sys.path:\n",
    "    sys.path.append(module_path + \"/src\")"
   ]
  },
  {
   "cell_type": "code",
   "execution_count": 1,
   "metadata": {},
   "outputs": [],
   "source": [
    "import numpy as np\n",
    "import matplotlib.pyplot as plt\n",
    "from scipy.integrate import odeint\n",
    " \n",
    "def coupled_differential_equations(y, t, k, b):\n",
    "    x, v = y\n",
    "    dxdt = v\n",
    "    dvdt = -k * x - b * v\n",
    "    return [dxdt, dvdt]\n",
    " \n",
    "y0 = [1.0, 0.0]  \n",
    "k = 1.0 \n",
    "b = 0.2 \n",
    "t = np.linspace(0, 10, 1000)  \n",
    " \n",
    "solutions = odeint(coupled_differential_equations, y0, t, args=(k, b))\n",
    " \n",
    "x_values = solutions[:, 0]\n",
    "v_values = solutions[:, 1]\n",
    " \n",
    "# plt.plot(t, x_values, label='Position x')\n",
    "# plt.plot(t, v_values, label='Velocity v')\n",
    "# plt.xlabel('Time')\n",
    "# plt.ylabel('Position / Velocity')\n",
    "# plt.legend()\n",
    "# plt.title('Coupled Differential Equations: Simple Harmonic Oscillator with Damping')\n",
    "# plt.show()"
   ]
  }
 ],
 "metadata": {
  "kernelspec": {
   "display_name": ".venv",
   "language": "python",
   "name": "python3"
  },
  "language_info": {
   "codemirror_mode": {
    "name": "ipython",
    "version": 3
   },
   "file_extension": ".py",
   "mimetype": "text/x-python",
   "name": "python",
   "nbconvert_exporter": "python",
   "pygments_lexer": "ipython3",
   "version": "3.10.13"
  }
 },
 "nbformat": 4,
 "nbformat_minor": 2
}
